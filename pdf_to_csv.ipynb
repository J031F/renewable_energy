{
 "cells": [
  {
   "cell_type": "code",
   "execution_count": 1,
   "id": "93e5faac-443b-4796-8cfc-ab4fc8fe4c4b",
   "metadata": {},
   "outputs": [],
   "source": [
    "from tabula import convert_into\n",
    "\n",
    "convert_into(\"energies 2012-2021/total_renewable_energy.pdf\", \"total_renewable_energy.csv\", output_format=\"csv\", pages='all')\n",
    "convert_into(\"energies 2012-2021/wind_energy.pdf\", \"wind_energy.csv\", output_format=\"csv\", pages='all')\n",
    "convert_into(\"energies 2012-2021/solar_energy.pdf\", \"solar_energy.csv\", output_format=\"csv\", pages='all')\n",
    "convert_into(\"energies 2012-2021/hydro_energy.pdf\", \"hydro_energy.csv\", output_format=\"csv\", pages='all')\n",
    "convert_into(\"energies 2012-2021/bio_energy.pdf\", \"bio_energy.csv\", output_format=\"csv\", pages='all')\n"
   ]
  },
  {
   "cell_type": "code",
   "execution_count": null,
   "id": "216a8804-24c9-4966-b485-037e63f05eb0",
   "metadata": {},
   "outputs": [],
   "source": []
  }
 ],
 "metadata": {
  "kernelspec": {
   "display_name": "Python 3 (ipykernel)",
   "language": "python",
   "name": "python3"
  },
  "language_info": {
   "codemirror_mode": {
    "name": "ipython",
    "version": 3
   },
   "file_extension": ".py",
   "mimetype": "text/x-python",
   "name": "python",
   "nbconvert_exporter": "python",
   "pygments_lexer": "ipython3",
   "version": "3.9.12"
  }
 },
 "nbformat": 4,
 "nbformat_minor": 5
}
